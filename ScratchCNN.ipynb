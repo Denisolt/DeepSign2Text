{
 "cells": [
  {
   "cell_type": "code",
   "execution_count": 14,
   "metadata": {},
   "outputs": [],
   "source": [
    "from keras.models import Sequential\n",
    "from keras.layers import Conv2D\n",
    "from keras.layers import MaxPooling2D\n",
    "from keras.layers import Flatten\n",
    "from keras.layers import Dense\n",
    "from keras.layers import Dropout\n",
    "from keras.preprocessing.image import ImageDataGenerator\n",
    "from keras.optimizers import SGD"
   ]
  },
  {
   "cell_type": "code",
   "execution_count": 15,
   "metadata": {},
   "outputs": [],
   "source": [
    "model = Sequential()\n",
    "model.add(Conv2D(32, (3, 3), activation='relu', input_shape=(100, 100, 3)))\n",
    "model.add(Conv2D(32, (3, 3), activation='relu'))\n",
    "model.add(MaxPooling2D(pool_size=(2, 2)))\n",
    "model.add(Dropout(0.25))\n",
    "\n",
    "model.add(Conv2D(64, (3, 3), activation='relu'))\n",
    "model.add(Conv2D(64, (3, 3), activation='relu'))\n",
    "model.add(MaxPooling2D(pool_size=(2, 2)))\n",
    "model.add(Dropout(0.25))\n",
    "\n",
    "model.add(Flatten())\n",
    "model.add(Dense(256, activation='relu'))\n",
    "model.add(Dropout(0.5))\n",
    "model.add(Dense(29, activation='softmax'))\n",
    "\n",
    "sgd = SGD(lr=0.01, decay=1e-6, momentum=0.9, nesterov=True)\n",
    "classifier.compile(optimizer = 'adam', loss='categorical_crossentropy',metrics=['accuracy'])"
   ]
  },
  {
   "cell_type": "code",
   "execution_count": 24,
   "metadata": {},
   "outputs": [
    {
     "name": "stdout",
     "output_type": "stream",
     "text": [
      "Found 87000 images belonging to 29 classes.\n",
      "Found 29 images belonging to 29 classes.\n"
     ]
    }
   ],
   "source": [
    "train_datagen = ImageDataGenerator(rescale = 1./255,\n",
    "                                   shear_range = 0.2,\n",
    "                                   zoom_range = 0.2,\n",
    "                                   horizontal_flip = False)\n",
    "\n",
    "test_datagen = ImageDataGenerator(rescale = 1./255)\n",
    "\n",
    "training_set = train_datagen.flow_from_directory('data/asl_alphabet_train/',\n",
    "                                                 target_size = (64, 64),\n",
    "                                                 batch_size = 32,\n",
    "                                                 class_mode = 'categorical')\n",
    "\n",
    "test_set = test_datagen.flow_from_directory('data/asl_alphabet_test/',\n",
    "                                            target_size = (64, 64),\n",
    "                                            batch_size = 32,\n",
    "                                            class_mode = 'categorical')"
   ]
  },
  {
   "cell_type": "code",
   "execution_count": null,
   "metadata": {
    "scrolled": false
   },
   "outputs": [
    {
     "name": "stdout",
     "output_type": "stream",
     "text": [
      "Epoch 1/20\n",
      "2719/2719 [==============================] - 1425s 524ms/step - loss: 0.4884 - acc: 0.8386 - val_loss: 0.2011 - val_acc: 0.8966\n",
      "Epoch 2/20\n",
      "2719/2719 [==============================] - 933s 343ms/step - loss: 0.3960 - acc: 0.8683 - val_loss: 0.2673 - val_acc: 0.8621\n",
      "Epoch 3/20\n",
      "2719/2719 [==============================] - 1179s 434ms/step - loss: 0.3222 - acc: 0.8923 - val_loss: 0.1819 - val_acc: 0.8966\n",
      "Epoch 4/20\n",
      "2719/2719 [==============================] - 1191s 438ms/step - loss: 0.2841 - acc: 0.9058 - val_loss: 0.1607 - val_acc: 0.9655\n",
      "Epoch 5/20\n",
      "2719/2719 [==============================] - 1140s 419ms/step - loss: 0.2507 - acc: 0.9163 - val_loss: 0.0352 - val_acc: 0.9655\n",
      "Epoch 6/20\n",
      "2719/2719 [==============================] - 695s 256ms/step - loss: 0.2240 - acc: 0.9257 - val_loss: 0.0064 - val_acc: 1.0000\n",
      "Epoch 7/20\n",
      "2719/2719 [==============================] - 659s 242ms/step - loss: 0.2011 - acc: 0.9335 - val_loss: 0.1036 - val_acc: 0.9310\n",
      "Epoch 8/20\n",
      "2719/2719 [==============================] - 2572s 946ms/step - loss: 0.1815 - acc: 0.9398 - val_loss: 0.0210 - val_acc: 1.0000\n",
      "Epoch 9/20\n",
      "2719/2719 [==============================] - 673s 248ms/step - loss: 0.1731 - acc: 0.9426 - val_loss: 0.0475 - val_acc: 0.9655\n",
      "Epoch 10/20\n",
      "2719/2719 [==============================] - 985s 362ms/step - loss: 0.1583 - acc: 0.9466 - val_loss: 0.0091 - val_acc: 1.0000\n",
      "Epoch 11/20\n",
      "2719/2719 [==============================] - 1188s 437ms/step - loss: 0.1444 - acc: 0.9526 - val_loss: 0.1229 - val_acc: 0.9310\n",
      "Epoch 12/20\n",
      "2719/2719 [==============================] - 962s 354ms/step - loss: 0.1415 - acc: 0.9536 - val_loss: 0.0016 - val_acc: 1.0000\n",
      "Epoch 13/20\n",
      "2719/2719 [==============================] - 753s 277ms/step - loss: 0.1406 - acc: 0.9551 - val_loss: 0.0751 - val_acc: 0.9655\n",
      "Epoch 14/20\n",
      "2719/2719 [==============================] - 795s 293ms/step - loss: 0.1236 - acc: 0.9600 - val_loss: 0.0306 - val_acc: 1.0000\n",
      "Epoch 15/20\n",
      "2719/2719 [==============================] - 791s 291ms/step - loss: 0.1187 - acc: 0.9616 - val_loss: 0.0023 - val_acc: 1.0000\n",
      "Epoch 16/20\n",
      "2719/2719 [==============================] - 808s 297ms/step - loss: 0.1160 - acc: 0.9626 - val_loss: 0.0014 - val_acc: 1.0000\n",
      "Epoch 17/20\n",
      "2719/2719 [==============================] - 822s 302ms/step - loss: 0.1119 - acc: 0.9636 - val_loss: 0.0090 - val_acc: 1.0000\n",
      "Epoch 18/20\n",
      "1604/2719 [================>.............] - ETA: 5:24 - loss: 0.1091 - acc: 0.9652"
     ]
    }
   ],
   "source": [
    "classifier.fit_generator(training_set,\n",
    "                         epochs = 20,\n",
    "                         validation_data = test_set)\n",
    "\n",
    "score = classifier.evaluate(np.expand_dims(training_set, axis=3), test_set, batch_size=32)\n",
    "print(score)"
   ]
  },
  {
   "cell_type": "code",
   "execution_count": null,
   "metadata": {},
   "outputs": [],
   "source": [
    "import numpy as np\n",
    "from keras.preprocessing import image\n",
    "test_image = image.load_img('data/check/img.jpg', target_size = (64, 64))\n",
    "test_image = image.img_to_array(test_image)\n",
    "test_image = np.expand_dims(test_image, axis = 0)\n",
    "result = classifier.predict(test_image)\n",
    "training_set.class_indices\n",
    "\n",
    "print(\"Predicting this is: \" + str(result[0][0]))"
   ]
  },
  {
   "cell_type": "code",
   "execution_count": null,
   "metadata": {},
   "outputs": [],
   "source": []
  }
 ],
 "metadata": {
  "kernelspec": {
   "display_name": "Python 3",
   "language": "python",
   "name": "python3"
  },
  "language_info": {
   "codemirror_mode": {
    "name": "ipython",
    "version": 3
   },
   "file_extension": ".py",
   "mimetype": "text/x-python",
   "name": "python",
   "nbconvert_exporter": "python",
   "pygments_lexer": "ipython3",
   "version": "3.6.5"
  }
 },
 "nbformat": 4,
 "nbformat_minor": 2
}
